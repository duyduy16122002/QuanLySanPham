{
 "cells": [
  {
   "cell_type": "code",
   "execution_count": 17,
   "id": "e0239044",
   "metadata": {},
   "outputs": [
    {
     "name": "stdout",
     "output_type": "stream",
     "text": [
      "Nhập tên sản phẩm mới: coca\n",
      "Nhập số lượng của sản phẩm mới: 11\n",
      "{'Kem': 50, 'Sữa': 100, 'coca': 11}\n",
      "Nhập sản phẩm cần sửa: Sữa\n",
      "Nhập tên sản phẩm mới: Mì\n",
      "Nhập số lượng của sản phẩm mới: 100\n",
      "Nhập tên sản phẩm cần xóa: coca\n",
      "{'Kem': 50, 'Mì': '100'}\n"
     ]
    }
   ],
   "source": [
    "def add_sp(sp):\n",
    "    key = input('Nhập tên sản phẩm mới: ')\n",
    "    val = int(input('Nhập số lượng của sản phẩm mới: '))\n",
    "    sp[key] = val\n",
    "def print_sp (sp):\n",
    "    print(sp)\n",
    "def edit_sp (sp):\n",
    "    old_value = input('Nhập sản phẩm cần sửa: ')\n",
    "    key = input('Nhập tên sản phẩm mới: ')\n",
    "    val = input('Nhập số lượng của sản phẩm mới: ')\n",
    "    sp.pop(old_value)\n",
    "    sp[key] = val\n",
    "def delete(sp):\n",
    "    del_sp = input('Nhập tên sản phẩm cần xóa: ')\n",
    "    sp.pop(del_sp)\n",
    "\n",
    "san_pham = {\n",
    "    'Kem': 50,\n",
    "    'Sữa': 100\n",
    "}\n",
    "add_sp(san_pham)\n",
    "print_sp(san_pham)\n",
    "edit_sp(san_pham)\n",
    "delete(san_pham)\n",
    "print_sp(san_pham)"
   ]
  }
 ],
 "metadata": {
  "kernelspec": {
   "display_name": "Python 3 (ipykernel)",
   "language": "python",
   "name": "python3"
  },
  "language_info": {
   "codemirror_mode": {
    "name": "ipython",
    "version": 3
   },
   "file_extension": ".py",
   "mimetype": "text/x-python",
   "name": "python",
   "nbconvert_exporter": "python",
   "pygments_lexer": "ipython3",
   "version": "3.9.12"
  }
 },
 "nbformat": 4,
 "nbformat_minor": 5
}
